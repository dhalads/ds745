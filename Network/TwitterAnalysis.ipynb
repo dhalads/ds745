{
 "cells": [
  {
   "cell_type": "code",
   "execution_count": null,
   "metadata": {},
   "outputs": [],
   "source": [
    "import networkx as nx\n",
    "import os\n",
    "import json\n",
    "import matplotlib.pyplot as plt"
   ]
  },
  {
   "cell_type": "code",
   "execution_count": null,
   "metadata": {},
   "outputs": [],
   "source": [
    "G = nx.DiGraph()\n",
    "\n",
    "data_directory = \"./output_friends/\"\n",
    "my_screen_name=\"xalwudhal\"\n",
    "\n",
    "# Load the people I follow into a list\n",
    "my_friends = []\n",
    "with open(data_directory+ my_screen_name + \".json\",encoding = 'utf-8') as f:\n",
    "        friends=json.loads(f.read())\n",
    "        my_friends = [friend[\"screen_name\"] for friend in friends]\n",
    "\n",
    "# There's something great about Twitter calling people these my friends.  I follow them, but there's no guarantee they actually *like* me.\n",
    "my_friends[:10]"
   ]
  },
  {
   "cell_type": "code",
   "execution_count": null,
   "metadata": {},
   "outputs": [],
   "source": [
    "# Load everyone's friends except mine as nodes in our graph\n",
    "for filename in os.listdir(data_directory):\n",
    "    if (filename != my_screen_name + \".json\"):\n",
    "        with open(data_directory+filename,encoding = 'utf-8') as f:\n",
    "            screen_name = filename.replace(\".json\",\"\")\n",
    "            friends = json.loads(f.read())\n",
    "            \n",
    "            G.add_node(screen_name,is_friend=True)\n",
    "\n",
    "            # Add all of my friend's friends\n",
    "            for friend in friends:\n",
    "                    # If this friend is in Bert's list of friends, assign the is_friend attribute appropriately\n",
    "                    if friend[\"screen_name\"] in my_friends:\n",
    "                        is_friend = True\n",
    "                    else:\n",
    "                        is_friend = False\n",
    "\n",
    "                    G.add_node(friend[\"screen_name\"], is_friend = is_friend)\n",
    "                    G.add_edge(screen_name,friend[\"screen_name\"])\n",
    "                "
   ]
  },
  {
   "cell_type": "code",
   "execution_count": null,
   "metadata": {},
   "outputs": [],
   "source": [
    "# Find the people with the highest number of edges, filtering out the ones that are already my friends\n",
    "degrees = [{\"screen_name\": n[0],  \"degrees\": list(nx.degree(G,n))[0][1]} for n in nx.get_node_attributes(G,'is_friend').items() if n[1] == False]\n",
    "sorted_degrees = sorted(degrees, key=lambda k:k[\"degrees\"], reverse=True)\n",
    "\n",
    "# Get the top 50\n",
    "top_50 = sorted_degrees[1:50]\n",
    "top_50"
   ]
  },
  {
   "cell_type": "code",
   "execution_count": null,
   "metadata": {},
   "outputs": [],
   "source": [
    "# Create a new graph that will only contain the top 50 friends of friends\n",
    "G2 = nx.DiGraph()\n",
    "\n",
    "data_directory = \"./output_friends/\"\n",
    "\n",
    "# Load me into the graph\n",
    "G2.add_node(my_screen_name, friend_tier=0)\n",
    "\n",
    "# Add Bert's Friends\n",
    "with open(data_directory+ my_screen_name + \".json\",encoding = 'utf-8') as f:\n",
    "        friends=json.loads(f.read())\n",
    "        for friend in friends:\n",
    "            G2.add_node(friend[\"screen_name\"], friend_tier=1)\n",
    "            G2.add_edge(my_screen_name, friend[\"screen_name\"])\n",
    "\n",
    "# Add Bert's Friends' Friends only if they appear in the top_50 list\n",
    "for filename in os.listdir(data_directory):\n",
    "    if (filename != my_screen_name + \".json\"):\n",
    "        with open(data_directory+filename,encoding = 'utf-8') as f:\n",
    "            screen_name = filename.replace(\".json\",\"\")\n",
    "            friends = json.loads(f.read())\n",
    "\n",
    "            for friend in friends:\n",
    "                    # Add only the top_50 friends of friends\n",
    "                    if any(d[\"screen_name\"] == friend[\"screen_name\"] for d in top_50):  \n",
    "                        G2.add_node(friend[\"screen_name\"], friend_tier=2)\n",
    "                        G2.add_edge(screen_name,friend[\"screen_name\"])"
   ]
  },
  {
   "cell_type": "code",
   "execution_count": null,
   "metadata": {},
   "outputs": [],
   "source": [
    "# Shells are the circles that nodes appear on the graph\n",
    "shell_level_1 = []\n",
    "shell_level_2 = []\n",
    "\n",
    "# Add nodes to the appropriate circle\n",
    "for n in nx.get_node_attributes(G2,'friend_tier').items():\n",
    "    if n[1] == 2:\n",
    "        shell_level_2.append(n[0])\n",
    "    else:\n",
    "        shell_level_1.append(n[0])\n",
    "\n",
    "shells = [shell_level_1,shell_level_2]\n",
    "pos = nx.shell_layout(G2,shells,scale=500)\n",
    "pos[my_screen_name] =[0,0]\n",
    "\n",
    "nx.draw_networkx(G2,pos=pos,node_size=1,node_color=\"#cfcfcf\",alpha=.3,arrowsize=4,font_size=4,width=.4,edge_color=\"#bdbdbd\")\n",
    "plt.savefig(\"Graph.png\", dpi=1000)\n",
    "plt.show()"
   ]
  }
 ],
 "metadata": {
  "file_extension": ".py",
  "interpreter": {
   "hash": "b561e488fe9de3c34bc87b6e4c9252ea3629a96db508b4e2c780a3da2913d991"
  },
  "kernelspec": {
   "display_name": "Python 3.8.10 64-bit ('bus01': venv)",
   "language": "python",
   "name": "python3"
  },
  "language_info": {
   "codemirror_mode": {
    "name": "ipython",
    "version": 3
   },
   "file_extension": ".py",
   "mimetype": "text/x-python",
   "name": "python",
   "nbconvert_exporter": "python",
   "pygments_lexer": "ipython3",
   "version": "3.8.10"
  },
  "mimetype": "text/x-python",
  "name": "python",
  "npconvert_exporter": "python",
  "orig_nbformat": 2,
  "pygments_lexer": "ipython3",
  "version": 3
 },
 "nbformat": 4,
 "nbformat_minor": 2
}
